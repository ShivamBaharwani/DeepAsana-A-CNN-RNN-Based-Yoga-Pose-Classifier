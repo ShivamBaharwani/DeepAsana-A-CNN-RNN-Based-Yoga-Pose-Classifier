{
  "cells": [
    {
      "cell_type": "code",
      "execution_count": null,
      "metadata": {
        "colab": {
          "base_uri": "https://localhost:8080/"
        },
        "id": "oM3gfY4RrRmh",
        "outputId": "250071e7-f638-4d71-fa61-8677bfa5705d"
      },
      "outputs": [
        {
          "name": "stdout",
          "output_type": "stream",
          "text": [
            "Drive already mounted at /content/drive; to attempt to forcibly remount, call drive.mount(\"/content/drive\", force_remount=True).\n"
          ]
        }
      ],
      "source": [
        "from google.colab import drive\n",
        "import os, re, shutil\n",
        "from collections import defaultdict\n",
        "\n",
        "drive.mount('/content/drive')"
      ]
    },
    {
      "cell_type": "code",
      "execution_count": null,
      "metadata": {
        "id": "zFTchqqxroU5"
      },
      "outputs": [],
      "source": [
        "FOLDER = '/content/drive/MyDrive/NN/Yoga'"
      ]
    },
    {
      "cell_type": "code",
      "execution_count": null,
      "metadata": {
        "id": "21nOiMc-rV__"
      },
      "outputs": [],
      "source": [
        "def choose_primary(candidates):\n",
        "    for name in candidates:\n",
        "        if not name.startswith('Copy of') and not name.startswith('of '):\n",
        "            return name\n",
        "    return min(candidates, key=len)"
      ]
    },
    {
      "cell_type": "code",
      "execution_count": null,
      "metadata": {
        "id": "CL9-2NCirYbS"
      },
      "outputs": [],
      "source": [
        "# capture the number after 'vid'\n",
        "vid_pattern = re.compile(r'vid(\\d+)', re.IGNORECASE)\n",
        "\n"
      ]
    },
    {
      "cell_type": "code",
      "execution_count": null,
      "metadata": {
        "id": "lQt-1V3qrbtC"
      },
      "outputs": [],
      "source": [
        "all_mp4 = [f for f in os.listdir(FOLDER) if f.lower().endswith('.mp4')]\n",
        "\n",
        "# Group files by their vid-number \n",
        "groups = defaultdict(list)\n",
        "for fname in all_mp4:\n",
        "    m = vid_pattern.search(fname)\n",
        "    if m:\n",
        "        vid_num = m.group(1).lstrip('0') or '0'      # normalise leading zeros\n",
        "        groups[vid_num].append(fname)\n",
        "    else:\n",
        "        print(f\"[WARN] Skipping file with no 'vid##' number: {fname}\")\n",
        "\n"
      ]
    },
    {
      "cell_type": "code",
      "execution_count": null,
      "metadata": {
        "id": "-9-NjZ8jrd3f"
      },
      "outputs": [],
      "source": [
        "# delete duplicates, retaining one per vid-number\n",
        "deleted = []\n",
        "for vid_num, files in groups.items():\n",
        "    if len(files) > 1:\n",
        "        keep = choose_primary(files)\n",
        "        for f in files:\n",
        "            if f != keep:\n",
        "                os.remove(os.path.join(FOLDER, f))\n",
        "                deleted.append(f)\n",
        "        print(f\"✓ vid{vid_num}: kept '{keep}', deleted {len(files)-1} duplicates\")\n",
        "\n"
      ]
    },
    {
      "cell_type": "code",
      "execution_count": null,
      "metadata": {
        "id": "nkhfWDFWrf3d"
      },
      "outputs": [],
      "source": [
        "# rename the remaining files \n",
        "rename_map = {}\n",
        "for fname in os.listdir(FOLDER):\n",
        "    if not fname.lower().endswith('.mp4'):\n",
        "        continue\n",
        "    cleaned = fname.replace('Copy of Copy ', '').replace('Copy of ', '')\n",
        "    if cleaned != fname:\n",
        "        src = os.path.join(FOLDER, fname)\n",
        "        dst = os.path.join(FOLDER, cleaned)\n",
        "        # avoid accidental overwrite\n",
        "        if not os.path.exists(dst):\n",
        "            os.rename(src, dst)\n",
        "            rename_map[fname] = cleaned\n",
        "        else:\n",
        "            print(f\"[SKIP] Target name already exists: {cleaned}\")\n",
        "\n"
      ]
    },
    {
      "cell_type": "code",
      "execution_count": null,
      "metadata": {
        "colab": {
          "base_uri": "https://localhost:8080/"
        },
        "id": "4fdwMMfJrhht",
        "outputId": "29b4a989-e7ae-4442-fbc0-0ed32e1a1bce"
      },
      "outputs": [
        {
          "name": "stdout",
          "output_type": "stream",
          "text": [
            "\n",
            "--- Summary ---\n",
            "Deleted 0 duplicate file(s).\n",
            "No files needed renaming.\n"
          ]
        }
      ],
      "source": [
        "# report \n",
        "print(\"\\n--- Summary ---\")\n",
        "print(f\"Deleted {len(deleted)} duplicate file(s).\")\n",
        "if rename_map:\n",
        "    print(\"Renamed:\")\n",
        "    for old, new in rename_map.items():\n",
        "        print(f\"  {old}  →  {new}\")\n",
        "else:\n",
        "    print(\"No files needed renaming.\")"
      ]
    },
    {
      "cell_type": "code",
      "execution_count": null,
      "metadata": {
        "colab": {
          "base_uri": "https://localhost:8080/"
        },
        "id": "HZmD3tNvLfdi",
        "outputId": "18c9d33d-08ce-46ac-9a33-10a5a613f318"
      },
      "outputs": [
        {
          "name": "stdout",
          "output_type": "stream",
          "text": [
            "\n",
            "--- Summary ---\n",
            "Deleted 0 duplicate file(s).\n",
            "Renamed:\n",
            "  of VID20250127145820.mp4  →  VID20250127145820.mp4\n",
            "  of VID20250127145609.mp4  →  VID20250127145609.mp4\n",
            "  of VID20250127144930.mp4  →  VID20250127144930.mp4\n",
            "  of VID20250127145657.mp4  →  VID20250127145657.mp4\n",
            "  of VID20250127144823.mp4  →  VID20250127144823.mp4\n",
            "  of VID20250127145847.mp4  →  VID20250127145847.mp4\n",
            "  of VID20250127145553.mp4  →  VID20250127145553.mp4\n",
            "  of VID20250127145909.mp4  →  VID20250127145909.mp4\n",
            "  of VID20250127145632.mp4  →  VID20250127145632.mp4\n",
            "  of VID20250127144731.mp4  →  VID20250127144731.mp4\n",
            "  of VID20250127142801.mp4  →  VID20250127142801.mp4\n",
            "  of VID20250127144402.mp4  →  VID20250127144402.mp4\n",
            "  of VID20250127144541.mp4  →  VID20250127144541.mp4\n",
            "  of VID20250127144417.mp4  →  VID20250127144417.mp4\n",
            "  of VID20250127144433.mp4  →  VID20250127144433.mp4\n",
            "  of VID20250127151738.mp4  →  VID20250127151738.mp4\n",
            "  of VID20250127152056.mp4  →  VID20250127152056.mp4\n",
            "  of VID20250127151920.mp4  →  VID20250127151920.mp4\n",
            "  of VID20250127151802.mp4  →  VID20250127151802.mp4\n",
            "  of VID20250127152025.mp4  →  VID20250127152025.mp4\n",
            "  of VID20250127151716.mp4  →  VID20250127151716.mp4\n",
            "  of VID20250127151906.mp4  →  VID20250127151906.mp4\n",
            "  of VID20250127152002.mp4  →  VID20250127152002.mp4\n",
            "  of VID20250127151942.mp4  →  VID20250127151942.mp4\n",
            "  of VID20250127152117.mp4  →  VID20250127152117.mp4\n",
            "  of VID20250127150129.mp4  →  VID20250127150129.mp4\n",
            "  of VID20250127150350.mp4  →  VID20250127150350.mp4\n",
            "  of VID20250127151656.mp4  →  VID20250127151656.mp4\n",
            "  of VID20250127151558.mp4  →  VID20250127151558.mp4\n",
            "  of VID20250127150317.mp4  →  VID20250127150317.mp4\n",
            "  of VID20250127151640.mp4  →  VID20250127151640.mp4\n",
            "  of VID20250127150233.mp4  →  VID20250127150233.mp4\n",
            "  of VID20250127150419.mp4  →  VID20250127150419.mp4\n",
            "  of VID20250127151627.mp4  →  VID20250127151627.mp4\n",
            "  of VID20250127151613.mp4  →  VID20250127151613.mp4\n",
            "  of VID20250127145013.mp4  →  VID20250127145013.mp4\n",
            "  of VID20250127145136.mp4  →  VID20250127145136.mp4\n",
            "  of VID20250127145402.mp4  →  VID20250127145402.mp4\n",
            "  of VID20250127150112.mp4  →  VID20250127150112.mp4\n",
            "  of VID20250127145456.mp4  →  VID20250127145456.mp4\n",
            "  of VID20250127145153.mp4  →  VID20250127145153.mp4\n",
            "  of VID20250127145317.mp4  →  VID20250127145317.mp4\n",
            "  of VID20250127145252.mp4  →  VID20250127145252.mp4\n",
            "  of VID20250127145224.mp4  →  VID20250127145224.mp4\n",
            "  of VID20250127145341.mp4  →  VID20250127145341.mp4\n",
            "  of VID20250127143051.mp4  →  VID20250127143051.mp4\n",
            "  of VID20250127143137.mp4  →  VID20250127143137.mp4\n",
            "  of VID20250127143242.mp4  →  VID20250127143242.mp4\n",
            "  of VID20250127143107.mp4  →  VID20250127143107.mp4\n",
            "  of VID20250127143337.mp4  →  VID20250127143337.mp4\n",
            "  of VID20250127142845.mp4  →  VID20250127142845.mp4\n",
            "  of VID20250127142914.mp4  →  VID20250127142914.mp4\n",
            "  of VID20250127143211.mp4  →  VID20250127143211.mp4\n"
          ]
        }
      ],
      "source": [
        "# choose best filename among duplicates\n",
        "def choose_primary(candidates):\n",
        "    for name in candidates:\n",
        "        if not name.startswith('Copy of') and not name.startswith('of '):\n",
        "            return name\n",
        "    return min(candidates, key=len)\n",
        "\n",
        "# Pattern to extract the number after \"vid\"\n",
        "vid_pattern = re.compile(r'vid(\\d+)', re.IGNORECASE)\n",
        "\n",
        "all_mp4 = [f for f in os.listdir(FOLDER) if f.lower().endswith('.mp4')]\n",
        "\n",
        "groups = defaultdict(list)\n",
        "for fname in all_mp4:\n",
        "    m = vid_pattern.search(fname)\n",
        "    if m:\n",
        "        vid_num = m.group(1).lstrip('0') or '0'\n",
        "        groups[vid_num].append(fname)\n",
        "    else:\n",
        "        print(f\"[WARN] Skipping file with no 'vid##' number: {fname}\")\n",
        "\n",
        "deleted = []\n",
        "for vid_num, files in groups.items():\n",
        "    if len(files) > 1:\n",
        "        keep = choose_primary(files)\n",
        "        for f in files:\n",
        "            if f != keep:\n",
        "                os.remove(os.path.join(FOLDER, f))\n",
        "                deleted.append(f)\n",
        "        print(f\"✓ vid{vid_num}: kept '{keep}', deleted {len(files)-1} duplicates\")\n",
        "\n",
        "rename_map = {}\n",
        "for fname in os.listdir(FOLDER):\n",
        "    if not fname.lower().endswith('.mp4'):\n",
        "        continue\n",
        "\n",
        "    cleaned = fname\n",
        "    # Remove all 3 possible patterns\n",
        "    if cleaned.startswith(\"Copy of Copy \"):\n",
        "        cleaned = cleaned.replace(\"Copy of Copy \", \"\", 1)\n",
        "    if cleaned.startswith(\"Copy of \"):\n",
        "        cleaned = cleaned.replace(\"Copy of \", \"\", 1)\n",
        "    if cleaned.startswith(\"of \"):\n",
        "        cleaned = cleaned.replace(\"of \", \"\", 1)\n",
        "\n",
        "    # Perform rename if needed\n",
        "    if cleaned != fname:\n",
        "        src = os.path.join(FOLDER, fname)\n",
        "        dst = os.path.join(FOLDER, cleaned)\n",
        "        if not os.path.exists(dst):\n",
        "            os.rename(src, dst)\n",
        "            rename_map[fname] = cleaned\n",
        "        else:\n",
        "            print(f\"[SKIP] Cannot rename: '{cleaned}' already exists.\")\n",
        "\n",
        "print(\"\\n--- Summary ---\")\n",
        "print(f\"Deleted {len(deleted)} duplicate file(s).\")\n",
        "if rename_map:\n",
        "    print(\"Renamed:\")\n",
        "    for old, new in rename_map.items():\n",
        "        print(f\"  {old}  →  {new}\")\n",
        "else:\n",
        "    print(\"No files needed renaming.\")\n"
      ]
    },
    {
      "cell_type": "code",
      "execution_count": null,
      "metadata": {
        "colab": {
          "base_uri": "https://localhost:8080/"
        },
        "id": "-JeWTbzPMhLu",
        "outputId": "5c8c0754-bae2-416f-f6ce-10baf824737d"
      },
      "outputs": [
        {
          "name": "stdout",
          "output_type": "stream",
          "text": [
            "\n",
            "No duplicate filenames found.\n"
          ]
        }
      ],
      "source": [
        "seen = set()\n",
        "duplicate_name_deletions = []\n",
        "\n",
        "for fname in sorted(os.listdir(FOLDER)):  # Sorted to preserve order\n",
        "    if not fname.lower().endswith('.mp4'):\n",
        "        continue\n",
        "\n",
        "    if fname in seen:\n",
        "        os.remove(os.path.join(FOLDER, fname))\n",
        "        duplicate_name_deletions.append(fname)\n",
        "    else:\n",
        "        seen.add(fname)\n",
        "\n",
        "# --- Report\n",
        "if duplicate_name_deletions:\n",
        "    print(\"\\n--- Duplicate Filename Cleanup ---\")\n",
        "    print(f\"Deleted {len(duplicate_name_deletions)} duplicate filename(s):\")\n",
        "    for name in duplicate_name_deletions:\n",
        "        print(f\"  {name}\")\n",
        "else:\n",
        "    print(\"\\nNo duplicate filenames found.\")\n"
      ]
    }
  ],
  "metadata": {
    "colab": {
      "provenance": []
    },
    "kernelspec": {
      "display_name": "Python 3",
      "name": "python3"
    },
    "language_info": {
      "name": "python"
    }
  },
  "nbformat": 4,
  "nbformat_minor": 0
}
